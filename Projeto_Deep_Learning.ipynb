{
  "cells": [
    {
      "cell_type": "markdown",
      "metadata": {
        "id": "view-in-github",
        "colab_type": "text"
      },
      "source": [
        "<a href=\"https://colab.research.google.com/github/leorr/AI/blob/main/Projeto_Deep_Learning.ipynb\" target=\"_parent\"><img src=\"https://colab.research.google.com/assets/colab-badge.svg\" alt=\"Open In Colab\"/></a>"
      ]
    },
    {
      "cell_type": "markdown",
      "metadata": {
        "id": "q8cJ5tMhmCNm"
      },
      "source": [
        "LINKS REFERÊNCIAS:\n",
        "\n",
        "Classify Images Using Python & Machine Learning - https://www.youtube.com/watch?v=iGWbqhdjf2s\n",
        "\n",
        " CNN Com cachorros e gatos - https://machinelearningmastery.com/how-to-develop-a-convolutional-neural-network-to-classify-photos-of-dogs-and-cats/\n",
        "\n",
        " what-are-max-pooling-average-pooling-global-max-pooling https://github.com/christianversloot/machine-learning-articles/blob/main/what-are-max-pooling-average-pooling-global-max-pooling-and-global-average-pooling.md\n",
        "\n",
        " Global Max Pool https://www.tensorflow.org/api_docs/python/tf/keras/layers/GlobalMaxPool2D\n",
        "\n",
        "Multiprocessing https://stackoverflow.com/questions/55531427/how-to-define-max-queue-size-workers-and-use-multiprocessing-in-keras-fit-gener"
      ]
    },
    {
      "cell_type": "code",
      "execution_count": 86,
      "metadata": {
        "id": "Jp91es8xQEro"
      },
      "outputs": [],
      "source": [
        "import tensorflow as tf\n",
        "import numpy as np\n",
        "import matplotlib.pyplot as plt\n",
        "from sklearn.metrics import classification_report, confusion_matrix\n",
        "from tensorflow.keras import layers\n",
        "import os\n",
        "import pandas as pd\n",
        "import seaborn as sn\n"
      ]
    },
    {
      "cell_type": "code",
      "source": [
        "train_ds = tf.keras.utils.image_dataset_from_directory(\n",
        "    'Downloads/DATA',\n",
        "    validation_split=0.2,\n",
        "    subset=\"training\",\n",
        "    label_mode='categorical',\n",
        "    seed=123,\n",
        "    image_size=(100,100),\n",
        "    batch_size=32)\n",
        "\n",
        "val_ds = tf.keras.utils.image_dataset_from_directory(\n",
        "  'Downloads/DATA',\n",
        "  validation_split=0.2,\n",
        "  subset=\"validation\",\n",
        "  label_mode='categorical',\n",
        "  seed=123,\n",
        "  image_size=(100, 100),\n",
        "  batch_size=32)"
      ],
      "metadata": {
        "colab": {
          "base_uri": "https://localhost:8080/"
        },
        "id": "xhRHC52Mw86n",
        "outputId": "f08f0b95-a627-4e07-a722-7b26704aee93"
      },
      "execution_count": 2,
      "outputs": [
        {
          "output_type": "stream",
          "name": "stdout",
          "text": [
            "Found 6000 files belonging to 3 classes.\n",
            "Using 4800 files for training.\n",
            "Found 6000 files belonging to 3 classes.\n",
            "Using 1200 files for validation.\n"
          ]
        }
      ]
    },
    {
      "cell_type": "code",
      "source": [
        "class_names = train_ds.class_names\n",
        "print(class_names)"
      ],
      "metadata": {
        "colab": {
          "base_uri": "https://localhost:8080/"
        },
        "id": "MEHp5g-A7p0n",
        "outputId": "1124888e-4a6d-47ee-a6e5-e306da9edf9a"
      },
      "execution_count": 3,
      "outputs": [
        {
          "output_type": "stream",
          "name": "stdout",
          "text": [
            "['cat', 'dog', 'wild']\n"
          ]
        }
      ]
    },
    {
      "cell_type": "code",
      "execution_count": 4,
      "metadata": {
        "id": "zTTUdqiv6GzT"
      },
      "outputs": [],
      "source": [
        "base_model = tf.keras.applications.MobileNet(weights='imagenet',\n",
        "                                             include_top=False,\n",
        "                                             input_shape=(100,100,3),\n",
        "                                             pooling=\"max\")\n",
        "x=base_model.output\n",
        "x=tf.keras.layers.Dropout(0.5)(x)\n",
        "preds=tf.keras.layers.Dense(3, activation='softmax')(x)  \n",
        "model = tf.keras.models.Model(\n",
        "    inputs=base_model.input,\n",
        "    outputs=preds\n",
        ")\n",
        "\n",
        "for l in model.layers:\n",
        "  if l.name.split('_')[0] != 'dense':\n",
        "    l.trainable=False\n",
        "  else:\n",
        "    l.trainable=True"
      ]
    },
    {
      "cell_type": "code",
      "source": [
        "model.summary()"
      ],
      "metadata": {
        "id": "bjxoju5-Abmj"
      },
      "execution_count": null,
      "outputs": []
    },
    {
      "cell_type": "code",
      "execution_count": 6,
      "metadata": {
        "colab": {
          "base_uri": "https://localhost:8080/"
        },
        "id": "8iUeXNdZOHCg",
        "outputId": "7cf7d76a-8d31-4302-aa50-a817cacfdada"
      },
      "outputs": [
        {
          "output_type": "stream",
          "name": "stdout",
          "text": [
            "Epoch 1/2\n",
            "150/150 [==============================] - 70s 432ms/step - loss: 0.2559 - accuracy: 0.9300 - val_loss: 0.0185 - val_accuracy: 0.9958\n",
            "Epoch 2/2\n",
            "150/150 [==============================] - 64s 429ms/step - loss: 0.0486 - accuracy: 0.9871 - val_loss: 0.0135 - val_accuracy: 0.9966\n"
          ]
        }
      ],
      "source": [
        "opt = tf.keras.optimizers.Adam(learning_rate=0.001)\n",
        "model.compile(\n",
        "    optimizer=opt,\n",
        "    loss='categorical_crossentropy',\n",
        "    metrics=['accuracy'])\n",
        "\n",
        "step_size_train=4800//32\n",
        "step_size_val = 1200//32\n",
        "\n",
        "history = model.fit(\n",
        "    x=train_ds,\n",
        "    steps_per_epoch=step_size_train,\n",
        "    epochs=500,\n",
        "    validation_data=val_ds,\n",
        "    validation_steps=step_size_val\n",
        ")"
      ]
    },
    {
      "cell_type": "code",
      "source": [
        "results = model.evaluate_generator(val_ds, 15)\n",
        "print('Acc: %.3f, Loss: %.3f' % (results[1], results[0]))\n",
        "print(history.history.keys())"
      ],
      "metadata": {
        "id": "ASdjzT1W-9Vw",
        "colab": {
          "base_uri": "https://localhost:8080/"
        },
        "outputId": "233982aa-559c-4639-f0cd-329a13221114"
      },
      "execution_count": 7,
      "outputs": [
        {
          "output_type": "stream",
          "name": "stderr",
          "text": [
            "C:\\Users\\leona\\AppData\\Local\\Temp\\ipykernel_11780\\3470705721.py:1: UserWarning: `Model.evaluate_generator` is deprecated and will be removed in a future version. Please use `Model.evaluate`, which supports generators.\n",
            "  results = model.evaluate_generator(val_ds, 15)\n"
          ]
        },
        {
          "output_type": "stream",
          "name": "stdout",
          "text": [
            "Acc: 0.998, Loss: 0.007\n",
            "dict_keys(['loss', 'accuracy', 'val_loss', 'val_accuracy'])\n"
          ]
        }
      ]
    },
    {
      "cell_type": "code",
      "execution_count": 8,
      "metadata": {
        "id": "BDQ29FeBm_Dx",
        "colab": {
          "base_uri": "https://localhost:8080/",
          "height": 580
        },
        "outputId": "cdfbaeac-b996-45ab-c38a-5e71c5f73600"
      },
      "outputs": [
        {
          "output_type": "display_data",
          "data": {
            "text/plain": [
              "<Figure size 432x288 with 1 Axes>"
            ],
            "image/png": "[encoded data removed]"
          },
          "metadata": {
            "needs_background": "light"
          }
        },
        {
          "output_type": "stream",
          "name": "stdout",
          "text": [
            "\n",
            "\n"
          ]
        },
        {
          "output_type": "display_data",
          "data": {
            "text/plain": [
              "<Figure size 432x288 with 1 Axes>"
            ],
            "image/png": "[encoded data removed]"
          },
          "metadata": {
            "needs_background": "light"
          }
        }
      ],
      "source": [
        "plt.title('Loss')\n",
        "plt.plot(history.history['loss'], label='train')\n",
        "plt.plot(history.history['val_loss'], label='test')\n",
        "plt.legend()\n",
        "plt.show()\n",
        "print()\n",
        "print()\n",
        "plt.title('Accuracy')\n",
        "plt.plot(history.history['accuracy'], label='train')\n",
        "plt.plot(history.history['val_accuracy'], label='test')\n",
        "plt.legend()\n",
        "plt.show()"
      ]
    },
    {
      "cell_type": "code",
      "execution_count": null,
      "metadata": {
        "id": "tI5ecdDenF-7"
      },
      "outputs": [],
      "source": [
        "predictions = model.predict(val_ds, steps = 1)\n",
        "y_pred = np.argmax(predictions, axis=-1)\n",
        "val_labels=val_ds.class_names\n",
        "classification = classification_report(val_labels, y_pred)\n",
        "print(classification)\n",
        "matrix = confusion_matrix(val_labels, y_pred)\n",
        "df_cm = pd.DataFrame(matrix, index = [i for i in range(3)],\n",
        "                  columns = [i for i in range(3)])\n",
        "plt.figure(figsize = (10,7))\n",
        "sn.heatmap(df_cm, annot=True, linewidths=2.5)"
      ]
    },
    {
      "cell_type": "code",
      "source": [
        "import cv2\n",
        "import tensorflow as tf\n",
        "\n",
        "def prepare(filepath):\n",
        "    IMG_SIZE = 150  # 50 in txt-based\n",
        "    img_array = cv2.imread(filepath, cv2.IMREAD_GRAYSCALE)  # read in the image, convert to grayscale\n",
        "    new_array = cv2.resize(img_array, (IMG_SIZE, IMG_SIZE))  # resize image to match model's expected sizing\n",
        "    return new_array.reshape(-1, IMG_SIZE, IMG_SIZE, 1)  # return the image with shaping that TF wants.\n",
        "\n",
        "predicition = model.predict([prepare('Pictures/babv.jpg')])\n",
        "\n",
        "def get_class(prediction):\n",
        "    i = 0\n",
        "    for each in predicition[0]:\n",
        "        if (each>0.5):\n",
        "            if(i == 0):\n",
        "                return 'cat'\n",
        "            if(i == 1):\n",
        "                return 'dog'\n",
        "            if(i == 2):\n",
        "                return 'wild'\n",
        "        i+=1\n",
        "    return 'unknown'\n",
        "\n",
        "print(get_class(predicition))"
      ],
      "metadata": {
        "id": "m6uFde-IsRfj",
        "colab": {
          "base_uri": "https://localhost:8080/"
        },
        "outputId": "b888459c-9b9f-4cf0-c9de-1aecca389465"
      },
      "execution_count": 85,
      "outputs": [
        {
          "output_type": "stream",
          "name": "stdout",
          "text": [
            "1/1 [==============================] - 0s 33ms/step\n",
            "wild\n"
          ]
        }
      ]
    }
  ],
  "metadata": {
    "accelerator": "GPU",
    "colab": {
      "collapsed_sections": [],
      "name": "Projeto_Deep_Learning.ipynb",
      "provenance": [],
      "include_colab_link": true
    },
    "kernelspec": {
      "display_name": "Python 3",
      "name": "python3"
    },
    "language_info": {
      "name": "python"
    }
  },
  "nbformat": 4,
  "nbformat_minor": 0
}