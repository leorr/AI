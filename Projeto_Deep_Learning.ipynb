{
  "cells": [
    {
      "cell_type": "markdown",
      "metadata": {
        "id": "view-in-github",
        "colab_type": "text"
      },
      "source": [
        "<a href=\"https://colab.research.google.com/github/leorr/AI/blob/main/Projeto_Deep_Learning.ipynb\" target=\"_parent\"><img src=\"https://colab.research.google.com/assets/colab-badge.svg\" alt=\"Open In Colab\"/></a>"
      ]
    },
    {
      "cell_type": "markdown",
      "metadata": {
        "id": "q8cJ5tMhmCNm"
      },
      "source": [
        "LINKS REFERÊNCIAS:\n",
        "\n",
        "Classify Images Using Python & Machine Learning - https://www.youtube.com/watch?v=iGWbqhdjf2s\n",
        "\n",
        " CNN Com cachorros e gatos - https://machinelearningmastery.com/how-to-develop-a-convolutional-neural-network-to-classify-photos-of-dogs-and-cats/\n",
        "\n",
        " what-are-max-pooling-average-pooling-global-max-pooling https://github.com/christianversloot/machine-learning-articles/blob/main/what-are-max-pooling-average-pooling-global-max-pooling-and-global-average-pooling.md\n",
        "\n",
        " Global Max Pool https://www.tensorflow.org/api_docs/python/tf/keras/layers/GlobalMaxPool2D\n",
        "\n",
        "Multiprocessing https://stackoverflow.com/questions/55531427/how-to-define-max-queue-size-workers-and-use-multiprocessing-in-keras-fit-gener"
      ]
    },
    {
      "cell_type": "code",
      "execution_count": 1,
      "metadata": {
        "id": "Jp91es8xQEro"
      },
      "outputs": [],
      "source": [
        "import tensorflow as tf\n",
        "import numpy as np\n",
        "import matplotlib.pyplot as plt\n",
        "from sklearn.metrics import classification_report, confusion_matrix\n",
        "from tensorflow.keras import layers\n",
        "import os\n",
        "import pandas as pd\n",
        "import seaborn as sn\n",
        "\n",
        "IMG_SIZE = 50\n"
      ]
    },
    {
      "cell_type": "code",
      "source": [
        "train_ds = tf.keras.utils.image_dataset_from_directory(\n",
        "    'Downloads/DATA',\n",
        "    validation_split=0.2,\n",
        "    subset=\"training\",\n",
        "    label_mode='categorical',\n",
        "    seed=123,\n",
        "    shuffle=True,\n",
        "    image_size=(IMG_SIZE,IMG_SIZE),\n",
        "    batch_size=32)\n",
        "\n",
        "val_ds = tf.keras.utils.image_dataset_from_directory(\n",
        "  'Downloads/DATA',\n",
        "  validation_split=0.2,\n",
        "  subset=\"validation\",\n",
        "  label_mode='categorical',\n",
        "  seed=123,\n",
        "  shuffle=True,\n",
        "  image_size=(IMG_SIZE, IMG_SIZE),\n",
        "  batch_size=32)\n",
        "\n",
        "class_names = train_ds.class_names\n",
        "val_samples   = len(val_ds.file_paths)\n",
        "train_samples = len(train_ds.file_paths)"
      ],
      "metadata": {
        "colab": {
          "base_uri": "https://localhost:8080/"
        },
        "id": "xhRHC52Mw86n",
        "outputId": "10230dac-0398-4531-c37b-008fca5cdb18"
      },
      "execution_count": 2,
      "outputs": [
        {
          "output_type": "stream",
          "name": "stdout",
          "text": [
            "Found 16130 files belonging to 3 classes.\n",
            "Using 12904 files for training.\n",
            "Found 16130 files belonging to 3 classes.\n",
            "Using 3226 files for validation.\n"
          ]
        }
      ]
    },
    {
      "cell_type": "code",
      "execution_count": 3,
      "metadata": {
        "id": "zTTUdqiv6GzT"
      },
      "outputs": [],
      "source": [
        "base_model = tf.keras.applications.EfficientNetB0(weights='imagenet',\n",
        "                                             include_top=False,\n",
        "                                             input_shape=(IMG_SIZE,IMG_SIZE,3),\n",
        "                                             pooling=\"max\")\n",
        "x=base_model.output\n",
        "x=tf.keras.layers.Dropout(0.5)(x)\n",
        "preds=tf.keras.layers.Dense(3, activation='softmax')(x)  \n",
        "model = tf.keras.models.Model(\n",
        "    inputs=base_model.input,\n",
        "    outputs=preds\n",
        ")\n",
        "\n",
        "for l in model.layers:\n",
        "  if l.name.split('_')[0] != 'dense':\n",
        "    l.trainable=False\n",
        "  else:\n",
        "    l.trainable=True"
      ]
    },
    {
      "cell_type": "code",
      "source": [
        "model.summary()"
      ],
      "metadata": {
        "id": "bjxoju5-Abmj"
      },
      "execution_count": null,
      "outputs": []
    },
    {
      "cell_type": "code",
      "execution_count": null,
      "metadata": {
        "colab": {
          "base_uri": "https://localhost:8080/"
        },
        "id": "8iUeXNdZOHCg",
        "outputId": "5ad55639-bd59-49e1-c37f-54937a301530"
      },
      "outputs": [
        {
          "output_type": "stream",
          "name": "stdout",
          "text": [
            "step_size_val=101 step_size_train=404\n",
            "Epoch 1/500\n",
            "404/404 [==============================] - 42s 92ms/step - loss: 0.4182 - accuracy: 0.8345 - val_loss: 0.2309 - val_accuracy: 0.9148\n",
            "Epoch 2/500\n",
            "404/404 [==============================] - 37s 91ms/step - loss: 0.2882 - accuracy: 0.8927 - val_loss: 0.2112 - val_accuracy: 0.9216\n",
            "Epoch 3/500\n",
            "404/404 [==============================] - 37s 91ms/step - loss: 0.2720 - accuracy: 0.8975 - val_loss: 0.2016 - val_accuracy: 0.9272\n",
            "Epoch 4/500\n",
            "404/404 [==============================] - 37s 91ms/step - loss: 0.2638 - accuracy: 0.8997 - val_loss: 0.2007 - val_accuracy: 0.9272\n",
            "Epoch 5/500\n",
            "404/404 [==============================] - 37s 91ms/step - loss: 0.2624 - accuracy: 0.9016 - val_loss: 0.1946 - val_accuracy: 0.9315\n",
            "Epoch 6/500\n",
            "404/404 [==============================] - 37s 92ms/step - loss: 0.2577 - accuracy: 0.9025 - val_loss: 0.2012 - val_accuracy: 0.9244\n",
            "Epoch 7/500\n",
            "404/404 [==============================] - 37s 91ms/step - loss: 0.2558 - accuracy: 0.9008 - val_loss: 0.1925 - val_accuracy: 0.9299\n",
            "Epoch 8/500\n",
            "404/404 [==============================] - 37s 91ms/step - loss: 0.2554 - accuracy: 0.9035 - val_loss: 0.1923 - val_accuracy: 0.9309\n",
            "Epoch 9/500\n",
            "404/404 [==============================] - 37s 91ms/step - loss: 0.2505 - accuracy: 0.9076 - val_loss: 0.1940 - val_accuracy: 0.9306\n",
            "Epoch 10/500\n",
            "404/404 [==============================] - 37s 92ms/step - loss: 0.2586 - accuracy: 0.9038 - val_loss: 0.1981 - val_accuracy: 0.9256\n",
            "Epoch 11/500\n",
            "404/404 [==============================] - 37s 92ms/step - loss: 0.2552 - accuracy: 0.9013 - val_loss: 0.1905 - val_accuracy: 0.9299\n",
            "Epoch 12/500\n",
            "404/404 [==============================] - 37s 92ms/step - loss: 0.2535 - accuracy: 0.9033 - val_loss: 0.2003 - val_accuracy: 0.9275\n",
            "Epoch 13/500\n",
            "404/404 [==============================] - 37s 92ms/step - loss: 0.2586 - accuracy: 0.9035 - val_loss: 0.1956 - val_accuracy: 0.9299\n",
            "Epoch 14/500\n",
            "404/404 [==============================] - 37s 92ms/step - loss: 0.2618 - accuracy: 0.9027 - val_loss: 0.1876 - val_accuracy: 0.9318\n",
            "Epoch 15/500\n",
            "404/404 [==============================] - 37s 92ms/step - loss: 0.2490 - accuracy: 0.9058 - val_loss: 0.1977 - val_accuracy: 0.9281\n",
            "Epoch 16/500\n",
            "404/404 [==============================] - 37s 92ms/step - loss: 0.2545 - accuracy: 0.9058 - val_loss: 0.1905 - val_accuracy: 0.9299\n",
            "Epoch 17/500\n",
            "404/404 [==============================] - 37s 92ms/step - loss: 0.2555 - accuracy: 0.9046 - val_loss: 0.1888 - val_accuracy: 0.9293\n",
            "Epoch 18/500\n",
            "404/404 [==============================] - 37s 92ms/step - loss: 0.2506 - accuracy: 0.9065 - val_loss: 0.1914 - val_accuracy: 0.9296\n",
            "Epoch 19/500\n",
            "404/404 [==============================] - 37s 92ms/step - loss: 0.2554 - accuracy: 0.9064 - val_loss: 0.1932 - val_accuracy: 0.9290\n",
            "Epoch 20/500\n",
            "404/404 [==============================] - 37s 92ms/step - loss: 0.2582 - accuracy: 0.9029 - val_loss: 0.1929 - val_accuracy: 0.9268\n",
            "Epoch 21/500\n",
            "404/404 [==============================] - 37s 92ms/step - loss: 0.2519 - accuracy: 0.9049 - val_loss: 0.1939 - val_accuracy: 0.9303\n",
            "Epoch 22/500\n",
            "404/404 [==============================] - 37s 92ms/step - loss: 0.2488 - accuracy: 0.9083 - val_loss: 0.1887 - val_accuracy: 0.9312\n",
            "Epoch 23/500\n",
            "404/404 [==============================] - 38s 93ms/step - loss: 0.2601 - accuracy: 0.9041 - val_loss: 0.1931 - val_accuracy: 0.9281\n",
            "Epoch 24/500\n",
            "404/404 [==============================] - 40s 98ms/step - loss: 0.2519 - accuracy: 0.9058 - val_loss: 0.1902 - val_accuracy: 0.9303\n",
            "Epoch 25/500\n",
            "404/404 [==============================] - 36s 90ms/step - loss: 0.2566 - accuracy: 0.9055 - val_loss: 0.1905 - val_accuracy: 0.9287\n",
            "Epoch 26/500\n",
            "404/404 [==============================] - 36s 90ms/step - loss: 0.2563 - accuracy: 0.9040 - val_loss: 0.1904 - val_accuracy: 0.9312\n",
            "Epoch 27/500\n",
            "404/404 [==============================] - 37s 90ms/step - loss: 0.2511 - accuracy: 0.9065 - val_loss: 0.1893 - val_accuracy: 0.9324\n",
            "Epoch 28/500\n",
            "404/404 [==============================] - 36s 90ms/step - loss: 0.2579 - accuracy: 0.9033 - val_loss: 0.1861 - val_accuracy: 0.9318\n",
            "Epoch 29/500\n",
            "404/404 [==============================] - 36s 90ms/step - loss: 0.2577 - accuracy: 0.9033 - val_loss: 0.1902 - val_accuracy: 0.9327\n",
            "Epoch 30/500\n",
            "404/404 [==============================] - 37s 91ms/step - loss: 0.2594 - accuracy: 0.9040 - val_loss: 0.1928 - val_accuracy: 0.9293\n",
            "Epoch 31/500\n",
            "404/404 [==============================] - 36s 90ms/step - loss: 0.2535 - accuracy: 0.9038 - val_loss: 0.1920 - val_accuracy: 0.9309\n",
            "Epoch 32/500\n",
            "404/404 [==============================] - 36s 90ms/step - loss: 0.2600 - accuracy: 0.9065 - val_loss: 0.1907 - val_accuracy: 0.9312\n",
            "Epoch 33/500\n",
            "404/404 [==============================] - 36s 90ms/step - loss: 0.2507 - accuracy: 0.9057 - val_loss: 0.1899 - val_accuracy: 0.9346\n",
            "Epoch 34/500\n",
            "404/404 [==============================] - 36s 90ms/step - loss: 0.2471 - accuracy: 0.9094 - val_loss: 0.1917 - val_accuracy: 0.9293\n",
            "Epoch 35/500\n",
            "404/404 [==============================] - 36s 90ms/step - loss: 0.2528 - accuracy: 0.9054 - val_loss: 0.1897 - val_accuracy: 0.9330\n",
            "Epoch 36/500\n",
            "404/404 [==============================] - 36s 90ms/step - loss: 0.2560 - accuracy: 0.9020 - val_loss: 0.1904 - val_accuracy: 0.9303\n",
            "Epoch 37/500\n",
            "404/404 [==============================] - 36s 90ms/step - loss: 0.2466 - accuracy: 0.9075 - val_loss: 0.1919 - val_accuracy: 0.9318\n",
            "Epoch 38/500\n",
            "404/404 [==============================] - 36s 90ms/step - loss: 0.2573 - accuracy: 0.9027 - val_loss: 0.1902 - val_accuracy: 0.9306\n",
            "Epoch 39/500\n",
            "404/404 [==============================] - 36s 90ms/step - loss: 0.2514 - accuracy: 0.9038 - val_loss: 0.1893 - val_accuracy: 0.9303\n",
            "Epoch 40/500\n",
            "404/404 [==============================] - 36s 90ms/step - loss: 0.2560 - accuracy: 0.9041 - val_loss: 0.1916 - val_accuracy: 0.9337\n",
            "Epoch 41/500\n",
            "404/404 [==============================] - 36s 90ms/step - loss: 0.2556 - accuracy: 0.9020 - val_loss: 0.1900 - val_accuracy: 0.9318\n",
            "Epoch 42/500\n",
            "404/404 [==============================] - 36s 90ms/step - loss: 0.2576 - accuracy: 0.9042 - val_loss: 0.1896 - val_accuracy: 0.9299\n",
            "Epoch 43/500\n",
            "404/404 [==============================] - 36s 90ms/step - loss: 0.2552 - accuracy: 0.9055 - val_loss: 0.1942 - val_accuracy: 0.9321\n",
            "Epoch 44/500\n",
            "404/404 [==============================] - 37s 90ms/step - loss: 0.2569 - accuracy: 0.9037 - val_loss: 0.1946 - val_accuracy: 0.9321\n",
            "Epoch 45/500\n",
            "404/404 [==============================] - 37s 90ms/step - loss: 0.2599 - accuracy: 0.9038 - val_loss: 0.1920 - val_accuracy: 0.9337\n",
            "Epoch 46/500\n",
            "404/404 [==============================] - 36s 90ms/step - loss: 0.2516 - accuracy: 0.9057 - val_loss: 0.1907 - val_accuracy: 0.9296\n",
            "Epoch 47/500\n",
            "404/404 [==============================] - 36s 90ms/step - loss: 0.2481 - accuracy: 0.9093 - val_loss: 0.1934 - val_accuracy: 0.9290\n",
            "Epoch 48/500\n",
            "404/404 [==============================] - 37s 90ms/step - loss: 0.2513 - accuracy: 0.9062 - val_loss: 0.1885 - val_accuracy: 0.9315\n",
            "Epoch 49/500\n",
            "404/404 [==============================] - 36s 90ms/step - loss: 0.2538 - accuracy: 0.9065 - val_loss: 0.1898 - val_accuracy: 0.9324\n",
            "Epoch 50/500\n",
            "404/404 [==============================] - 37s 91ms/step - loss: 0.2571 - accuracy: 0.9063 - val_loss: 0.1938 - val_accuracy: 0.9334\n",
            "Epoch 51/500\n",
            "404/404 [==============================] - 36s 90ms/step - loss: 0.2630 - accuracy: 0.9005 - val_loss: 0.1877 - val_accuracy: 0.9334\n",
            "Epoch 52/500\n",
            "404/404 [==============================] - 37s 90ms/step - loss: 0.2494 - accuracy: 0.9069 - val_loss: 0.1881 - val_accuracy: 0.9337\n",
            "Epoch 53/500\n",
            "404/404 [==============================] - 36s 90ms/step - loss: 0.2504 - accuracy: 0.9062 - val_loss: 0.1894 - val_accuracy: 0.9343\n",
            "Epoch 54/500\n",
            "404/404 [==============================] - 36s 90ms/step - loss: 0.2548 - accuracy: 0.9036 - val_loss: 0.1891 - val_accuracy: 0.9321\n",
            "Epoch 55/500\n",
            "404/404 [==============================] - 37s 90ms/step - loss: 0.2530 - accuracy: 0.9042 - val_loss: 0.1867 - val_accuracy: 0.9327\n",
            "Epoch 56/500\n",
            "404/404 [==============================] - 37s 90ms/step - loss: 0.2534 - accuracy: 0.9031 - val_loss: 0.1896 - val_accuracy: 0.9330\n",
            "Epoch 57/500\n",
            "404/404 [==============================] - 37s 90ms/step - loss: 0.2537 - accuracy: 0.9040 - val_loss: 0.1892 - val_accuracy: 0.9330\n",
            "Epoch 58/500\n",
            "404/404 [==============================] - 36s 90ms/step - loss: 0.2556 - accuracy: 0.9038 - val_loss: 0.1858 - val_accuracy: 0.9334\n",
            "Epoch 59/500\n",
            "404/404 [==============================] - 36s 90ms/step - loss: 0.2528 - accuracy: 0.9075 - val_loss: 0.1899 - val_accuracy: 0.9334\n",
            "Epoch 60/500\n",
            "404/404 [==============================] - 36s 90ms/step - loss: 0.2514 - accuracy: 0.9057 - val_loss: 0.1877 - val_accuracy: 0.9337\n",
            "Epoch 61/500\n",
            "404/404 [==============================] - 36s 90ms/step - loss: 0.2579 - accuracy: 0.9060 - val_loss: 0.1923 - val_accuracy: 0.9268\n",
            "Epoch 62/500\n",
            "404/404 [==============================] - 36s 90ms/step - loss: 0.2671 - accuracy: 0.9000 - val_loss: 0.1913 - val_accuracy: 0.9278\n",
            "Epoch 63/500\n",
            "404/404 [==============================] - 37s 91ms/step - loss: 0.2505 - accuracy: 0.9074 - val_loss: 0.1914 - val_accuracy: 0.9309\n",
            "Epoch 64/500\n",
            "404/404 [==============================] - 36s 90ms/step - loss: 0.2639 - accuracy: 0.9008 - val_loss: 0.1950 - val_accuracy: 0.9337\n",
            "Epoch 65/500\n",
            "404/404 [==============================] - 36s 90ms/step - loss: 0.2536 - accuracy: 0.9054 - val_loss: 0.1923 - val_accuracy: 0.9330\n",
            "Epoch 66/500\n",
            "404/404 [==============================] - 36s 90ms/step - loss: 0.2519 - accuracy: 0.9057 - val_loss: 0.1858 - val_accuracy: 0.9334\n",
            "Epoch 67/500\n",
            "404/404 [==============================] - 36s 90ms/step - loss: 0.2642 - accuracy: 0.9031 - val_loss: 0.1886 - val_accuracy: 0.9324\n",
            "Epoch 68/500\n",
            "404/404 [==============================] - 36s 90ms/step - loss: 0.2533 - accuracy: 0.9059 - val_loss: 0.1927 - val_accuracy: 0.9321\n",
            "Epoch 69/500\n",
            "404/404 [==============================] - 36s 90ms/step - loss: 0.2533 - accuracy: 0.9034 - val_loss: 0.1856 - val_accuracy: 0.9340\n",
            "Epoch 70/500\n",
            "404/404 [==============================] - 36s 90ms/step - loss: 0.2469 - accuracy: 0.9077 - val_loss: 0.1870 - val_accuracy: 0.9343\n",
            "Epoch 71/500\n",
            "404/404 [==============================] - 36s 90ms/step - loss: 0.2517 - accuracy: 0.9040 - val_loss: 0.1886 - val_accuracy: 0.9334\n",
            "Epoch 72/500\n",
            "404/404 [==============================] - 36s 90ms/step - loss: 0.2557 - accuracy: 0.9059 - val_loss: 0.1881 - val_accuracy: 0.9327\n",
            "Epoch 73/500\n",
            "404/404 [==============================] - 36s 89ms/step - loss: 0.2541 - accuracy: 0.9051 - val_loss: 0.1869 - val_accuracy: 0.9303\n",
            "Epoch 74/500\n",
            "404/404 [==============================] - 36s 89ms/step - loss: 0.2442 - accuracy: 0.9080 - val_loss: 0.1878 - val_accuracy: 0.9315\n",
            "Epoch 75/500\n",
            "404/404 [==============================] - 36s 90ms/step - loss: 0.2526 - accuracy: 0.9079 - val_loss: 0.1913 - val_accuracy: 0.9327\n",
            "Epoch 76/500\n",
            "404/404 [==============================] - 36s 90ms/step - loss: 0.2429 - accuracy: 0.9111 - val_loss: 0.1893 - val_accuracy: 0.9309\n",
            "Epoch 77/500\n",
            "404/404 [==============================] - 36s 90ms/step - loss: 0.2453 - accuracy: 0.9091 - val_loss: 0.1956 - val_accuracy: 0.9306\n",
            "Epoch 78/500\n",
            "404/404 [==============================] - 36s 90ms/step - loss: 0.2619 - accuracy: 0.9035 - val_loss: 0.1950 - val_accuracy: 0.9296\n",
            "Epoch 79/500\n",
            "404/404 [==============================] - 36s 90ms/step - loss: 0.2480 - accuracy: 0.9064 - val_loss: 0.1910 - val_accuracy: 0.9318\n",
            "Epoch 80/500\n",
            "404/404 [==============================] - 36s 90ms/step - loss: 0.2445 - accuracy: 0.9107 - val_loss: 0.1911 - val_accuracy: 0.9343\n",
            "Epoch 81/500\n",
            "404/404 [==============================] - 36s 90ms/step - loss: 0.2475 - accuracy: 0.9071 - val_loss: 0.1898 - val_accuracy: 0.9321\n",
            "Epoch 82/500\n",
            "404/404 [==============================] - 36s 90ms/step - loss: 0.2484 - accuracy: 0.9079 - val_loss: 0.1941 - val_accuracy: 0.9312\n",
            "Epoch 83/500\n",
            "404/404 [==============================] - 36s 90ms/step - loss: 0.2526 - accuracy: 0.9047 - val_loss: 0.1995 - val_accuracy: 0.9321\n",
            "Epoch 84/500\n",
            "404/404 [==============================] - 37s 90ms/step - loss: 0.2524 - accuracy: 0.9053 - val_loss: 0.1971 - val_accuracy: 0.9309\n",
            "Epoch 85/500\n",
            "404/404 [==============================] - 36s 90ms/step - loss: 0.2501 - accuracy: 0.9082 - val_loss: 0.1907 - val_accuracy: 0.9324\n",
            "Epoch 86/500\n",
            "404/404 [==============================] - 36s 90ms/step - loss: 0.2520 - accuracy: 0.9051 - val_loss: 0.1943 - val_accuracy: 0.9327\n",
            "Epoch 87/500\n",
            "404/404 [==============================] - 37s 92ms/step - loss: 0.2536 - accuracy: 0.9079 - val_loss: 0.1986 - val_accuracy: 0.9265\n",
            "Epoch 88/500\n",
            "404/404 [==============================] - 38s 93ms/step - loss: 0.2539 - accuracy: 0.9075 - val_loss: 0.1959 - val_accuracy: 0.9315\n",
            "Epoch 89/500\n",
            "404/404 [==============================] - 37s 92ms/step - loss: 0.2565 - accuracy: 0.9057 - val_loss: 0.1986 - val_accuracy: 0.9262\n",
            "Epoch 90/500\n",
            "404/404 [==============================] - 37s 92ms/step - loss: 0.2643 - accuracy: 0.9007 - val_loss: 0.1974 - val_accuracy: 0.9299\n",
            "Epoch 91/500\n",
            "404/404 [==============================] - 37s 92ms/step - loss: 0.2540 - accuracy: 0.9067 - val_loss: 0.1985 - val_accuracy: 0.9256\n",
            "Epoch 92/500\n",
            "404/404 [==============================] - 37s 92ms/step - loss: 0.2455 - accuracy: 0.9084 - val_loss: 0.1875 - val_accuracy: 0.9318\n",
            "Epoch 93/500\n",
            "404/404 [==============================] - 37s 92ms/step - loss: 0.2542 - accuracy: 0.9062 - val_loss: 0.1874 - val_accuracy: 0.9287\n",
            "Epoch 94/500\n",
            "404/404 [==============================] - 37s 92ms/step - loss: 0.2564 - accuracy: 0.9059 - val_loss: 0.1915 - val_accuracy: 0.9312\n",
            "Epoch 95/500\n",
            "404/404 [==============================] - 38s 93ms/step - loss: 0.2527 - accuracy: 0.9038 - val_loss: 0.1934 - val_accuracy: 0.9306\n",
            "Epoch 96/500\n",
            "404/404 [==============================] - 37s 92ms/step - loss: 0.2558 - accuracy: 0.9062 - val_loss: 0.1866 - val_accuracy: 0.9349\n",
            "Epoch 97/500\n",
            "404/404 [==============================] - 37s 92ms/step - loss: 0.2564 - accuracy: 0.9037 - val_loss: 0.1871 - val_accuracy: 0.9303\n",
            "Epoch 98/500\n",
            "404/404 [==============================] - 37s 92ms/step - loss: 0.2490 - accuracy: 0.9058 - val_loss: 0.1915 - val_accuracy: 0.9330\n",
            "Epoch 99/500\n",
            "404/404 [==============================] - 37s 92ms/step - loss: 0.2514 - accuracy: 0.9070 - val_loss: 0.1916 - val_accuracy: 0.9284\n",
            "Epoch 100/500\n",
            "404/404 [==============================] - 37s 92ms/step - loss: 0.2612 - accuracy: 0.9029 - val_loss: 0.1885 - val_accuracy: 0.9303\n",
            "Epoch 101/500\n",
            "404/404 [==============================] - 37s 92ms/step - loss: 0.2534 - accuracy: 0.9060 - val_loss: 0.1931 - val_accuracy: 0.9278\n",
            "Epoch 102/500\n",
            "404/404 [==============================] - 37s 92ms/step - loss: 0.2490 - accuracy: 0.9067 - val_loss: 0.1924 - val_accuracy: 0.9318\n",
            "Epoch 103/500\n",
            "404/404 [==============================] - 37s 92ms/step - loss: 0.2563 - accuracy: 0.9056 - val_loss: 0.1953 - val_accuracy: 0.9296\n",
            "Epoch 104/500\n",
            "404/404 [==============================] - 37s 92ms/step - loss: 0.2509 - accuracy: 0.9061 - val_loss: 0.1927 - val_accuracy: 0.9296\n",
            "Epoch 105/500\n",
            "404/404 [==============================] - 37s 92ms/step - loss: 0.2548 - accuracy: 0.9056 - val_loss: 0.1905 - val_accuracy: 0.9309\n",
            "Epoch 106/500\n",
            "404/404 [==============================] - 37s 92ms/step - loss: 0.2562 - accuracy: 0.9058 - val_loss: 0.1957 - val_accuracy: 0.9284\n",
            "Epoch 107/500\n",
            "404/404 [==============================] - 37s 92ms/step - loss: 0.2512 - accuracy: 0.9060 - val_loss: 0.1812 - val_accuracy: 0.9340\n",
            "Epoch 108/500\n",
            "404/404 [==============================] - 37s 92ms/step - loss: 0.2515 - accuracy: 0.9058 - val_loss: 0.1862 - val_accuracy: 0.9334\n",
            "Epoch 109/500\n",
            "404/404 [==============================] - 38s 93ms/step - loss: 0.2517 - accuracy: 0.9070 - val_loss: 0.1894 - val_accuracy: 0.9309\n",
            "Epoch 110/500\n",
            "404/404 [==============================] - 38s 94ms/step - loss: 0.2540 - accuracy: 0.9062 - val_loss: 0.1911 - val_accuracy: 0.9287\n",
            "Epoch 111/500\n",
            "404/404 [==============================] - 37s 91ms/step - loss: 0.2610 - accuracy: 0.9024 - val_loss: 0.1931 - val_accuracy: 0.9293\n",
            "Epoch 112/500\n",
            "404/404 [==============================] - 37s 90ms/step - loss: 0.2536 - accuracy: 0.9069 - val_loss: 0.1897 - val_accuracy: 0.9327\n",
            "Epoch 113/500\n",
            "404/404 [==============================] - 36s 90ms/step - loss: 0.2525 - accuracy: 0.9051 - val_loss: 0.1937 - val_accuracy: 0.9303\n",
            "Epoch 114/500\n",
            "404/404 [==============================] - 37s 91ms/step - loss: 0.2572 - accuracy: 0.9041 - val_loss: 0.1923 - val_accuracy: 0.9318\n",
            "Epoch 115/500\n",
            "404/404 [==============================] - 37s 93ms/step - loss: 0.2570 - accuracy: 0.9045 - val_loss: 0.1895 - val_accuracy: 0.9343\n",
            "Epoch 116/500\n",
            "404/404 [==============================] - 39s 96ms/step - loss: 0.2624 - accuracy: 0.9020 - val_loss: 0.1847 - val_accuracy: 0.9318\n",
            "Epoch 117/500\n",
            "404/404 [==============================] - 38s 94ms/step - loss: 0.2565 - accuracy: 0.9022 - val_loss: 0.1853 - val_accuracy: 0.9349\n",
            "Epoch 118/500\n",
            "404/404 [==============================] - 38s 93ms/step - loss: 0.2533 - accuracy: 0.9051 - val_loss: 0.1884 - val_accuracy: 0.9334\n",
            "Epoch 119/500\n",
            "404/404 [==============================] - 39s 95ms/step - loss: 0.2531 - accuracy: 0.9068 - val_loss: 0.1843 - val_accuracy: 0.9355\n",
            "Epoch 120/500\n",
            "404/404 [==============================] - 39s 96ms/step - loss: 0.2577 - accuracy: 0.9066 - val_loss: 0.1942 - val_accuracy: 0.9299\n",
            "Epoch 121/500\n",
            "404/404 [==============================] - 38s 94ms/step - loss: 0.2567 - accuracy: 0.9045 - val_loss: 0.1881 - val_accuracy: 0.9334\n",
            "Epoch 122/500\n",
            "404/404 [==============================] - 39s 95ms/step - loss: 0.2592 - accuracy: 0.9051 - val_loss: 0.1873 - val_accuracy: 0.9343\n",
            "Epoch 123/500\n",
            "404/404 [==============================] - 38s 93ms/step - loss: 0.2547 - accuracy: 0.9039 - val_loss: 0.1938 - val_accuracy: 0.9318\n",
            "Epoch 124/500\n",
            "404/404 [==============================] - 39s 95ms/step - loss: 0.2546 - accuracy: 0.9069 - val_loss: 0.1885 - val_accuracy: 0.9330\n",
            "Epoch 125/500\n",
            "404/404 [==============================] - 38s 95ms/step - loss: 0.2478 - accuracy: 0.9069 - val_loss: 0.1893 - val_accuracy: 0.9352\n",
            "Epoch 126/500\n",
            "404/404 [==============================] - 37s 91ms/step - loss: 0.2515 - accuracy: 0.9067 - val_loss: 0.1933 - val_accuracy: 0.9309\n",
            "Epoch 127/500\n",
            "404/404 [==============================] - 37s 90ms/step - loss: 0.2587 - accuracy: 0.9033 - val_loss: 0.1857 - val_accuracy: 0.9303\n",
            "Epoch 128/500\n",
            "404/404 [==============================] - 37s 91ms/step - loss: 0.2529 - accuracy: 0.9048 - val_loss: 0.1875 - val_accuracy: 0.9284\n",
            "Epoch 129/500\n",
            "404/404 [==============================] - 36s 90ms/step - loss: 0.2536 - accuracy: 0.9055 - val_loss: 0.1938 - val_accuracy: 0.9309\n",
            "Epoch 130/500\n",
            "404/404 [==============================] - 36s 90ms/step - loss: 0.2514 - accuracy: 0.9066 - val_loss: 0.1885 - val_accuracy: 0.9318\n",
            "Epoch 131/500\n",
            "404/404 [==============================] - 37s 90ms/step - loss: 0.2636 - accuracy: 0.9043 - val_loss: 0.1886 - val_accuracy: 0.9306\n",
            "Epoch 132/500\n",
            "404/404 [==============================] - 37s 91ms/step - loss: 0.2506 - accuracy: 0.9066 - val_loss: 0.1954 - val_accuracy: 0.9275\n",
            "Epoch 133/500\n",
            "404/404 [==============================] - 39s 96ms/step - loss: 0.2553 - accuracy: 0.9000 - val_loss: 0.1889 - val_accuracy: 0.9349\n",
            "Epoch 134/500\n",
            "404/404 [==============================] - 38s 94ms/step - loss: 0.2468 - accuracy: 0.9075 - val_loss: 0.1883 - val_accuracy: 0.9349\n",
            "Epoch 135/500\n",
            "404/404 [==============================] - 37s 93ms/step - loss: 0.2575 - accuracy: 0.9037 - val_loss: 0.1930 - val_accuracy: 0.9299\n",
            "Epoch 136/500\n",
            "404/404 [==============================] - 37s 92ms/step - loss: 0.2555 - accuracy: 0.9048 - val_loss: 0.1882 - val_accuracy: 0.9303\n",
            "Epoch 137/500\n",
            "404/404 [==============================] - 38s 94ms/step - loss: 0.2552 - accuracy: 0.9016 - val_loss: 0.1954 - val_accuracy: 0.9318\n",
            "Epoch 138/500\n",
            "404/404 [==============================] - 38s 93ms/step - loss: 0.2581 - accuracy: 0.9037 - val_loss: 0.1893 - val_accuracy: 0.9284\n",
            "Epoch 139/500\n",
            "404/404 [==============================] - 37s 92ms/step - loss: 0.2513 - accuracy: 0.9082 - val_loss: 0.1923 - val_accuracy: 0.9290\n",
            "Epoch 140/500\n",
            "404/404 [==============================] - 38s 94ms/step - loss: 0.2580 - accuracy: 0.9037 - val_loss: 0.1914 - val_accuracy: 0.9293\n",
            "Epoch 141/500\n",
            "404/404 [==============================] - 37s 92ms/step - loss: 0.2574 - accuracy: 0.9046 - val_loss: 0.1930 - val_accuracy: 0.9299\n",
            "Epoch 142/500\n",
            "404/404 [==============================] - 39s 95ms/step - loss: 0.2532 - accuracy: 0.9051 - val_loss: 0.1933 - val_accuracy: 0.9306\n",
            "Epoch 143/500\n",
            "404/404 [==============================] - 39s 96ms/step - loss: 0.2510 - accuracy: 0.9050 - val_loss: 0.2023 - val_accuracy: 0.9265\n",
            "Epoch 144/500\n",
            "404/404 [==============================] - 38s 95ms/step - loss: 0.2570 - accuracy: 0.9044 - val_loss: 0.1908 - val_accuracy: 0.9321\n",
            "Epoch 145/500\n",
            "404/404 [==============================] - 37s 93ms/step - loss: 0.2522 - accuracy: 0.9072 - val_loss: 0.1925 - val_accuracy: 0.9306\n",
            "Epoch 146/500\n",
            "404/404 [==============================] - 36s 90ms/step - loss: 0.2548 - accuracy: 0.9062 - val_loss: 0.2004 - val_accuracy: 0.9262\n",
            "Epoch 147/500\n",
            "404/404 [==============================] - 37s 91ms/step - loss: 0.2523 - accuracy: 0.9062 - val_loss: 0.1907 - val_accuracy: 0.9337\n",
            "Epoch 148/500\n",
            "404/404 [==============================] - 38s 93ms/step - loss: 0.2488 - accuracy: 0.9088 - val_loss: 0.1924 - val_accuracy: 0.9290\n",
            "Epoch 149/500\n",
            "404/404 [==============================] - 38s 95ms/step - loss: 0.2464 - accuracy: 0.9092 - val_loss: 0.2020 - val_accuracy: 0.9278\n",
            "Epoch 150/500\n",
            "404/404 [==============================] - 39s 96ms/step - loss: 0.2529 - accuracy: 0.9052 - val_loss: 0.1971 - val_accuracy: 0.9281\n",
            "Epoch 151/500\n",
            "404/404 [==============================] - 38s 93ms/step - loss: 0.2622 - accuracy: 0.9022 - val_loss: 0.1970 - val_accuracy: 0.9299\n",
            "Epoch 152/500\n",
            "404/404 [==============================] - 37s 91ms/step - loss: 0.2510 - accuracy: 0.9056 - val_loss: 0.1939 - val_accuracy: 0.9287\n",
            "Epoch 153/500\n",
            "404/404 [==============================] - 37s 91ms/step - loss: 0.2566 - accuracy: 0.9034 - val_loss: 0.1984 - val_accuracy: 0.9287\n",
            "Epoch 154/500\n",
            "404/404 [==============================] - 37s 92ms/step - loss: 0.2541 - accuracy: 0.9062 - val_loss: 0.2035 - val_accuracy: 0.9299\n",
            "Epoch 155/500\n",
            "404/404 [==============================] - 38s 95ms/step - loss: 0.2474 - accuracy: 0.9053 - val_loss: 0.1890 - val_accuracy: 0.9327\n",
            "Epoch 156/500\n",
            "404/404 [==============================] - 38s 93ms/step - loss: 0.2586 - accuracy: 0.9079 - val_loss: 0.1875 - val_accuracy: 0.9334\n",
            "Epoch 157/500\n",
            "404/404 [==============================] - 37s 92ms/step - loss: 0.2553 - accuracy: 0.9052 - val_loss: 0.1874 - val_accuracy: 0.9306\n",
            "Epoch 158/500\n",
            "404/404 [==============================] - 38s 94ms/step - loss: 0.2483 - accuracy: 0.9083 - val_loss: 0.1900 - val_accuracy: 0.9312\n",
            "Epoch 159/500\n",
            "404/404 [==============================] - 37s 92ms/step - loss: 0.2553 - accuracy: 0.9039 - val_loss: 0.1901 - val_accuracy: 0.9309\n",
            "Epoch 160/500\n",
            "404/404 [==============================] - 37s 92ms/step - loss: 0.2624 - accuracy: 0.9025 - val_loss: 0.1902 - val_accuracy: 0.9330\n",
            "Epoch 161/500\n",
            "404/404 [==============================] - 38s 95ms/step - loss: 0.2514 - accuracy: 0.9055 - val_loss: 0.1892 - val_accuracy: 0.9315\n",
            "Epoch 162/500\n",
            "404/404 [==============================] - 38s 94ms/step - loss: 0.2608 - accuracy: 0.9031 - val_loss: 0.1966 - val_accuracy: 0.9312\n",
            "Epoch 163/500\n",
            "404/404 [==============================] - 38s 95ms/step - loss: 0.2631 - accuracy: 0.9037 - val_loss: 0.1932 - val_accuracy: 0.9312\n",
            "Epoch 164/500\n",
            "404/404 [==============================] - 38s 95ms/step - loss: 0.2521 - accuracy: 0.9063 - val_loss: 0.1887 - val_accuracy: 0.9318\n",
            "Epoch 165/500\n",
            "404/404 [==============================] - 38s 94ms/step - loss: 0.2541 - accuracy: 0.9048 - val_loss: 0.1868 - val_accuracy: 0.9324\n",
            "Epoch 166/500\n",
            "404/404 [==============================] - 37s 92ms/step - loss: 0.2617 - accuracy: 0.9020 - val_loss: 0.1899 - val_accuracy: 0.9312\n",
            "Epoch 167/500\n",
            "404/404 [==============================] - 39s 96ms/step - loss: 0.2429 - accuracy: 0.9105 - val_loss: 0.1918 - val_accuracy: 0.9287\n",
            "Epoch 168/500\n",
            "404/404 [==============================] - 39s 95ms/step - loss: 0.2574 - accuracy: 0.9041 - val_loss: 0.1919 - val_accuracy: 0.9318\n",
            "Epoch 169/500\n",
            "404/404 [==============================] - 38s 94ms/step - loss: 0.2491 - accuracy: 0.9075 - val_loss: 0.1939 - val_accuracy: 0.9299\n",
            "Epoch 170/500\n",
            "404/404 [==============================] - 40s 99ms/step - loss: 0.2557 - accuracy: 0.9047 - val_loss: 0.1890 - val_accuracy: 0.9299\n",
            "Epoch 171/500\n",
            "404/404 [==============================] - 38s 95ms/step - loss: 0.2632 - accuracy: 0.9007 - val_loss: 0.1938 - val_accuracy: 0.9303\n",
            "Epoch 172/500\n",
            "404/404 [==============================] - 38s 93ms/step - loss: 0.2556 - accuracy: 0.9028 - val_loss: 0.1889 - val_accuracy: 0.9281\n",
            "Epoch 173/500\n",
            "404/404 [==============================] - 38s 94ms/step - loss: 0.2644 - accuracy: 0.9010 - val_loss: 0.1893 - val_accuracy: 0.9321\n",
            "Epoch 174/500\n",
            "404/404 [==============================] - 39s 95ms/step - loss: 0.2483 - accuracy: 0.9075 - val_loss: 0.1905 - val_accuracy: 0.9306\n",
            "Epoch 175/500\n",
            "404/404 [==============================] - 39s 96ms/step - loss: 0.2556 - accuracy: 0.9058 - val_loss: 0.1922 - val_accuracy: 0.9287\n",
            "Epoch 176/500\n",
            "404/404 [==============================] - 39s 96ms/step - loss: 0.2546 - accuracy: 0.9058 - val_loss: 0.1896 - val_accuracy: 0.9327\n",
            "Epoch 177/500\n",
            "404/404 [==============================] - 38s 94ms/step - loss: 0.2445 - accuracy: 0.9075 - val_loss: 0.1922 - val_accuracy: 0.9296\n",
            "Epoch 178/500\n",
            "404/404 [==============================] - 39s 96ms/step - loss: 0.2570 - accuracy: 0.9068 - val_loss: 0.1946 - val_accuracy: 0.9275\n",
            "Epoch 179/500\n",
            "404/404 [==============================] - 38s 94ms/step - loss: 0.2524 - accuracy: 0.9077 - val_loss: 0.1965 - val_accuracy: 0.9256\n",
            "Epoch 180/500\n",
            "404/404 [==============================] - 38s 93ms/step - loss: 0.2531 - accuracy: 0.9052 - val_loss: 0.1930 - val_accuracy: 0.9309\n",
            "Epoch 181/500\n",
            "404/404 [==============================] - 38s 94ms/step - loss: 0.2604 - accuracy: 0.9038 - val_loss: 0.1951 - val_accuracy: 0.9262\n",
            "Epoch 182/500\n",
            "404/404 [==============================] - 38s 94ms/step - loss: 0.2498 - accuracy: 0.9079 - val_loss: 0.1931 - val_accuracy: 0.9293\n",
            "Epoch 183/500\n",
            "404/404 [==============================] - 39s 95ms/step - loss: 0.2507 - accuracy: 0.9044 - val_loss: 0.1860 - val_accuracy: 0.9318\n",
            "Epoch 184/500\n",
            "193/404 [=============>................] - ETA: 16s - loss: 0.2511 - accuracy: 0.9050"
          ]
        }
      ],
      "source": [
        "opt = tf.keras.optimizers.Adam(learning_rate=0.001)\n",
        "model.compile(\n",
        "    optimizer=opt,\n",
        "    loss='categorical_crossentropy',\n",
        "    metrics=['accuracy'])\n",
        "\n",
        "step_size_train=-(-train_samples//32)\n",
        "step_size_val = -(-val_samples//32)\n",
        "\n",
        "print(\"step_size_val=\" + str(step_size_val) + \" step_size_train=\"+ str(step_size_train))\n",
        "\n",
        "\n",
        "history = model.fit(\n",
        "    x=train_ds,\n",
        "    steps_per_epoch=step_size_train,\n",
        "    epochs=500,\n",
        "    validation_data=val_ds,\n",
        "    validation_steps=step_size_val)"
      ]
    },
    {
      "cell_type": "code",
      "source": [
        "results = model.evaluate_generator(val_ds, 15)\n",
        "print('Acc: %.3f, Loss: %.3f' % (results[1], results[0]))\n",
        "print(history.history.keys())"
      ],
      "metadata": {
        "id": "ASdjzT1W-9Vw",
        "colab": {
          "base_uri": "https://localhost:8080/"
        },
        "outputId": "e1ce11e1-c52d-4c75-8457-05cbcbdc98b5"
      },
      "execution_count": null,
      "outputs": [
        {
          "output_type": "stream",
          "name": "stderr",
          "text": [
            "C:\\Users\\leona\\AppData\\Local\\Temp\\ipykernel_10260\\3470705721.py:1: UserWarning: `Model.evaluate_generator` is deprecated and will be removed in a future version. Please use `Model.evaluate`, which supports generators.\n",
            "  results = model.evaluate_generator(val_ds, 15)\n"
          ]
        },
        {
          "output_type": "stream",
          "name": "stdout",
          "text": [
            "Acc: 0.742, Loss: 0.663\n",
            "dict_keys(['loss', 'accuracy', 'val_loss', 'val_accuracy'])\n"
          ]
        }
      ]
    },
    {
      "cell_type": "code",
      "execution_count": null,
      "metadata": {
        "id": "BDQ29FeBm_Dx",
        "colab": {
          "base_uri": "https://localhost:8080/",
          "height": 580
        },
        "outputId": "9d036639-2ac0-4f7b-eede-94af13bf220e"
      },
      "outputs": [
        {
          "output_type": "display_data",
          "data": {
            "text/plain": [
              "<Figure size 432x288 with 1 Axes>"
            ],
            "image/png": "[encoded data removed]"
          },
          "metadata": {
            "needs_background": "light"
          }
        },
        {
          "output_type": "stream",
          "name": "stdout",
          "text": [
            "\n",
            "\n"
          ]
        },
        {
          "output_type": "display_data",
          "data": {
            "text/plain": [
              "<Figure size 432x288 with 1 Axes>"
            ],
            "image/png": "[encoded data removed]"
          },
          "metadata": {
            "needs_background": "light"
          }
        }
      ],
      "source": [
        "plt.title('Loss')\n",
        "plt.plot(history.history['loss'], label='train')\n",
        "plt.plot(history.history['val_loss'], label='test')\n",
        "plt.legend()\n",
        "plt.show()\n",
        "print()\n",
        "print()\n",
        "plt.title('Accuracy')\n",
        "plt.plot(history.history['accuracy'], label='train')\n",
        "plt.plot(history.history['val_accuracy'], label='test')\n",
        "plt.legend()\n",
        "plt.show()"
      ]
    },
    {
      "cell_type": "code",
      "source": [
        "num_epochs      = len(history.history['val_loss'])\n",
        "lr_value        = model.optimizer.get_config()['learning_rate']\n",
        "base_model_name = base_model.name\n",
        "\n",
        "final_name  = base_model_name + \"_valSamples<\" + str(val_samples) + \">\"\n",
        "final_name += \"_train_sample<\" + str(train_samples) + \">\" + \"_lr<\" + str(lr_value) + \">\" +\"_num_epochs<\" + str(num_epochs) + \">\"\n",
        "\n",
        "model.save(final_name)"
      ],
      "metadata": {
        "id": "kFYORwYPUX3l"
      },
      "execution_count": null,
      "outputs": []
    },
    {
      "cell_type": "code",
      "execution_count": null,
      "metadata": {
        "id": "tI5ecdDenF-7",
        "colab": {
          "base_uri": "https://localhost:8080/",
          "height": 912
        },
        "outputId": "0c95df8d-8a90-4d3f-f693-bdf7c36fe094"
      },
      "outputs": [
        {
          "output_type": "stream",
          "name": "stdout",
          "text": [
            "2/2 [==============================] - 1s 42ms/step\n"
          ]
        },
        {
          "output_type": "error",
          "ename": "ValueError",
          "evalue": "ignored",
          "traceback": [
            "\u001b[1;31m---------------------------------------------------------------------------\u001b[0m",
            "\u001b[1;31mValueError\u001b[0m                                Traceback (most recent call last)",
            "Input \u001b[1;32mIn [9]\u001b[0m, in \u001b[0;36m<cell line: 4>\u001b[1;34m()\u001b[0m\n\u001b[0;32m      2\u001b[0m y_pred \u001b[38;5;241m=\u001b[39m np\u001b[38;5;241m.\u001b[39margmax(predictions, axis\u001b[38;5;241m=\u001b[39m\u001b[38;5;241m-\u001b[39m\u001b[38;5;241m1\u001b[39m)\n\u001b[0;32m      3\u001b[0m val_labels\u001b[38;5;241m=\u001b[39mval_ds\u001b[38;5;241m.\u001b[39mclass_names\n\u001b[1;32m----> 4\u001b[0m classification \u001b[38;5;241m=\u001b[39m \u001b[43mclassification_report\u001b[49m\u001b[43m(\u001b[49m\u001b[43mval_labels\u001b[49m\u001b[43m,\u001b[49m\u001b[43m \u001b[49m\u001b[43my_pred\u001b[49m\u001b[43m)\u001b[49m\n\u001b[0;32m      5\u001b[0m \u001b[38;5;28mprint\u001b[39m(classification)\n\u001b[0;32m      6\u001b[0m matrix \u001b[38;5;241m=\u001b[39m confusion_matrix(val_labels, y_pred)\n",
            "File \u001b[1;32m~\\AppData\\Local\\Programs\\Python\\Python310\\lib\\site-packages\\sklearn\\metrics\\_classification.py:2125\u001b[0m, in \u001b[0;36mclassification_report\u001b[1;34m(y_true, y_pred, labels, target_names, sample_weight, digits, output_dict, zero_division)\u001b[0m\n\u001b[0;32m   2010\u001b[0m \u001b[38;5;28;01mdef\u001b[39;00m \u001b[38;5;21mclassification_report\u001b[39m(\n\u001b[0;32m   2011\u001b[0m     y_true,\n\u001b[0;32m   2012\u001b[0m     y_pred,\n\u001b[1;32m   (...)\u001b[0m\n\u001b[0;32m   2019\u001b[0m     zero_division\u001b[38;5;241m=\u001b[39m\u001b[38;5;124m\"\u001b[39m\u001b[38;5;124mwarn\u001b[39m\u001b[38;5;124m\"\u001b[39m,\n\u001b[0;32m   2020\u001b[0m ):\n\u001b[0;32m   2021\u001b[0m     \u001b[38;5;124;03m\"\"\"Build a text report showing the main classification metrics.\u001b[39;00m\n\u001b[0;32m   2022\u001b[0m \n\u001b[0;32m   2023\u001b[0m \u001b[38;5;124;03m    Read more in the :ref:`User Guide <classification_report>`.\u001b[39;00m\n\u001b[1;32m   (...)\u001b[0m\n\u001b[0;32m   2122\u001b[0m \u001b[38;5;124;03m    <BLANKLINE>\u001b[39;00m\n\u001b[0;32m   2123\u001b[0m \u001b[38;5;124;03m    \"\"\"\u001b[39;00m\n\u001b[1;32m-> 2125\u001b[0m     y_type, y_true, y_pred \u001b[38;5;241m=\u001b[39m \u001b[43m_check_targets\u001b[49m\u001b[43m(\u001b[49m\u001b[43my_true\u001b[49m\u001b[43m,\u001b[49m\u001b[43m \u001b[49m\u001b[43my_pred\u001b[49m\u001b[43m)\u001b[49m\n\u001b[0;32m   2127\u001b[0m     \u001b[38;5;28;01mif\u001b[39;00m labels \u001b[38;5;129;01mis\u001b[39;00m \u001b[38;5;28;01mNone\u001b[39;00m:\n\u001b[0;32m   2128\u001b[0m         labels \u001b[38;5;241m=\u001b[39m unique_labels(y_true, y_pred)\n",
            "File \u001b[1;32m~\\AppData\\Local\\Programs\\Python\\Python310\\lib\\site-packages\\sklearn\\metrics\\_classification.py:84\u001b[0m, in \u001b[0;36m_check_targets\u001b[1;34m(y_true, y_pred)\u001b[0m\n\u001b[0;32m     57\u001b[0m \u001b[38;5;28;01mdef\u001b[39;00m \u001b[38;5;21m_check_targets\u001b[39m(y_true, y_pred):\n\u001b[0;32m     58\u001b[0m     \u001b[38;5;124;03m\"\"\"Check that y_true and y_pred belong to the same classification task.\u001b[39;00m\n\u001b[0;32m     59\u001b[0m \n\u001b[0;32m     60\u001b[0m \u001b[38;5;124;03m    This converts multiclass or binary types to a common shape, and raises a\u001b[39;00m\n\u001b[1;32m   (...)\u001b[0m\n\u001b[0;32m     82\u001b[0m \u001b[38;5;124;03m    y_pred : array or indicator matrix\u001b[39;00m\n\u001b[0;32m     83\u001b[0m \u001b[38;5;124;03m    \"\"\"\u001b[39;00m\n\u001b[1;32m---> 84\u001b[0m     \u001b[43mcheck_consistent_length\u001b[49m\u001b[43m(\u001b[49m\u001b[43my_true\u001b[49m\u001b[43m,\u001b[49m\u001b[43m \u001b[49m\u001b[43my_pred\u001b[49m\u001b[43m)\u001b[49m\n\u001b[0;32m     85\u001b[0m     type_true \u001b[38;5;241m=\u001b[39m type_of_target(y_true, input_name\u001b[38;5;241m=\u001b[39m\u001b[38;5;124m\"\u001b[39m\u001b[38;5;124my_true\u001b[39m\u001b[38;5;124m\"\u001b[39m)\n\u001b[0;32m     86\u001b[0m     type_pred \u001b[38;5;241m=\u001b[39m type_of_target(y_pred, input_name\u001b[38;5;241m=\u001b[39m\u001b[38;5;124m\"\u001b[39m\u001b[38;5;124my_pred\u001b[39m\u001b[38;5;124m\"\u001b[39m)\n",
            "File \u001b[1;32m~\\AppData\\Local\\Programs\\Python\\Python310\\lib\\site-packages\\sklearn\\utils\\validation.py:387\u001b[0m, in \u001b[0;36mcheck_consistent_length\u001b[1;34m(*arrays)\u001b[0m\n\u001b[0;32m    385\u001b[0m uniques \u001b[38;5;241m=\u001b[39m np\u001b[38;5;241m.\u001b[39munique(lengths)\n\u001b[0;32m    386\u001b[0m \u001b[38;5;28;01mif\u001b[39;00m \u001b[38;5;28mlen\u001b[39m(uniques) \u001b[38;5;241m>\u001b[39m \u001b[38;5;241m1\u001b[39m:\n\u001b[1;32m--> 387\u001b[0m     \u001b[38;5;28;01mraise\u001b[39;00m \u001b[38;5;167;01mValueError\u001b[39;00m(\n\u001b[0;32m    388\u001b[0m         \u001b[38;5;124m\"\u001b[39m\u001b[38;5;124mFound input variables with inconsistent numbers of samples: \u001b[39m\u001b[38;5;132;01m%r\u001b[39;00m\u001b[38;5;124m\"\u001b[39m\n\u001b[0;32m    389\u001b[0m         \u001b[38;5;241m%\u001b[39m [\u001b[38;5;28mint\u001b[39m(l) \u001b[38;5;28;01mfor\u001b[39;00m l \u001b[38;5;129;01min\u001b[39;00m lengths]\n\u001b[0;32m    390\u001b[0m     )\n",
            "\u001b[1;31mValueError\u001b[0m: Found input variables with inconsistent numbers of samples: [3, 64]"
          ]
        }
      ],
      "source": [
        "predictions = model.predict(val_ds, steps = 2)\n",
        "y_pred = np.argmax(predictions, axis=-1)\n",
        "val_labels=val_ds.class_names\n",
        "classification = classification_report(val_labels, y_pred)\n",
        "print(classification)\n",
        "matrix = confusion_matrix(val_labels, y_pred)\n",
        "df_cm = pd.DataFrame(matrix, index = [i for i in range(3)],\n",
        "                  columns = [i for i in range(3)])\n",
        "plt.figure(figsize = (10,7))\n",
        "sn.heatmap(df_cm, annot=True, linewidths=2.5)"
      ]
    },
    {
      "cell_type": "code",
      "source": [
        "import cv2\n",
        "import tensorflow as tf\n",
        "import matplotlib.pyplot as plt\n",
        "import PIL.Image\n",
        "\n",
        "def prepare(filepath):\n",
        "    img_array = cv2.imread(filepath, cv2.IMREAD_GRAYSCALE)  # read in the image, convert to grayscale\n",
        "    new_array = cv2.resize(img_array, (IMG_SIZE, IMG_SIZE))  # resize image to match model's expected sizing\n",
        "    return new_array.reshape(-1, IMG_SIZE, IMG_SIZE, 1)  # return the image with shaping that TF wants.\n",
        "\n",
        "\n",
        "\n",
        "def get_class(prediction):\n",
        "    i = 0\n",
        "    for each in predicition[0]:\n",
        "        if (each>0.5):\n",
        "            if(i == 0):\n",
        "                return 'cat'\n",
        "            if(i == 1):\n",
        "                return 'dog'\n",
        "            if(i == 2):\n",
        "                return 'wild'\n",
        "        i+=1\n",
        "    return 'unknown'\n",
        "\n",
        "PIC_PATH='Downloads/haha/babv.jpg'\n",
        "\n",
        "predicition = model.predict([prepare(PIC_PATH)])\n",
        "source=PIL.Image.open(PIC_PATH)\n",
        "source=source.resize((IMG_SIZE,IMG_SIZE))\n",
        "print(predicition)\n",
        "get_class(predicition)\n",
        "plt.imshow(source)\n",
        "plt.title(get_class(predicition))\n"
      ],
      "metadata": {
        "id": "m6uFde-IsRfj"
      },
      "execution_count": null,
      "outputs": []
    },
    {
      "cell_type": "code",
      "source": [
        "img = tf.keras.utils.load_img(\n",
        "    PIC_PATH, target_size=(IMG_SIZE, IMG_SIZE))\n",
        "\n",
        "img_array = tf.keras.utils.img_to_array(img)\n",
        "\n",
        "predictions = model.predict(img_array)\n",
        "score = tf.nn.softmax(predictions[0])\n",
        "plt.imshow(img)\n",
        "print(predictions)\n",
        "plt.title(\n",
        "    \"This image most likely belongs to {} with a {:.2f} percent confidence.\"\n",
        "    .format(class_names[np.argmax(score)], 100 * np.max(score)))"
      ],
      "metadata": {
        "id": "PiAO3obSkYPo",
        "colab": {
          "base_uri": "https://localhost:8080/",
          "height": 350
        },
        "outputId": "1c712fe6-12b2-4907-f72c-b22da5f07a63"
      },
      "execution_count": null,
      "outputs": [
        {
          "output_type": "stream",
          "name": "stdout",
          "text": [
            "2/2 [==============================] - 0s 5ms/step\n",
            "[[0.04814051 0.10776462 0.8440949 ]\n",
            " [       nan        nan        nan]]\n"
          ]
        },
        {
          "output_type": "execute_result",
          "data": {
            "text/plain": [
              "Text(0.5, 1.0, 'This image most likely belongs to wild with a 51.81 percent confidence.')"
            ]
          },
          "metadata": {},
          "execution_count": 42
        },
        {
          "output_type": "display_data",
          "data": {
            "text/plain": [
              "<Figure size 432x288 with 1 Axes>"
            ],
            "image/png": "[encoded data removed]"
          },
          "metadata": {
            "needs_background": "light"
          }
        }
      ]
    }
  ],
  "metadata": {
    "accelerator": "GPU",
    "colab": {
      "collapsed_sections": [],
      "name": "Projeto_Deep_Learning.ipynb",
      "provenance": [],
      "include_colab_link": true
    },
    "kernelspec": {
      "display_name": "Python 3",
      "name": "python3"
    },
    "language_info": {
      "name": "python"
    }
  },
  "nbformat": 4,
  "nbformat_minor": 0
}