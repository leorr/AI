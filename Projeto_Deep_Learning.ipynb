{
  "cells": [
    {
      "cell_type": "markdown",
      "metadata": {
        "id": "view-in-github",
        "colab_type": "text"
      },
      "source": [
        "<a href=\"https://colab.research.google.com/github/leorr/AI/blob/main/Projeto_Deep_Learning.ipynb\" target=\"_parent\"><img src=\"https://colab.research.google.com/assets/colab-badge.svg\" alt=\"Open In Colab\"/></a>"
      ]
    },
    {
      "cell_type": "markdown",
      "metadata": {
        "id": "q8cJ5tMhmCNm"
      },
      "source": [
        "LINKS REFERÊNCIAS:\n",
        "\n",
        "Classify Images Using Python & Machine Learning - https://www.youtube.com/watch?v=iGWbqhdjf2s\n",
        "\n",
        " CNN Com cachorros e gatos - https://machinelearningmastery.com/how-to-develop-a-convolutional-neural-network-to-classify-photos-of-dogs-and-cats/\n",
        "\n",
        " what-are-max-pooling-average-pooling-global-max-pooling https://github.com/christianversloot/machine-learning-articles/blob/main/what-are-max-pooling-average-pooling-global-max-pooling-and-global-average-pooling.md\n",
        "\n",
        " Global Max Pool https://www.tensorflow.org/api_docs/python/tf/keras/layers/GlobalMaxPool2D\n",
        "\n",
        "Multiprocessing https://stackoverflow.com/questions/55531427/how-to-define-max-queue-size-workers-and-use-multiprocessing-in-keras-fit-gener"
      ]
    },
    {
      "cell_type": "markdown",
      "metadata": {
        "id": "Vppnkooj6o1r"
      },
      "source": [
        "# Imports"
      ]
    },
    {
      "cell_type": "code",
      "execution_count": 1,
      "metadata": {
        "id": "Jp91es8xQEro"
      },
      "outputs": [],
      "source": [
        "import tensorflow as tf\n",
        "import numpy as np\n",
        "import matplotlib.pyplot as plt\n",
        "from sklearn.metrics import classification_report, confusion_matrix\n",
        "import os"
      ]
    },
    {
      "cell_type": "markdown",
      "metadata": {
        "id": "qTikSpKeCU0i"
      },
      "source": [
        "# CONSTANTES"
      ]
    },
    {
      "cell_type": "code",
      "execution_count": 2,
      "metadata": {
        "id": "ANxFaY78CXKO"
      },
      "outputs": [],
      "source": [
        "batch_size = 32 # Exemplos utilizados para um determinado processo\n",
        "num_classes = 3 # classe de imagens possui 2 classes [Cachorros e Gatos]\n",
        "dropout = 0.5 #rever\n",
        "epochs = 500 #rever\n",
        "lr = 0.001 #rever\n",
        "IMG_HEIGHT = 64\n",
        "IMG_WIDTH = 64"
      ]
    },
    {
      "cell_type": "markdown",
      "metadata": {
        "id": "0SRAFPVC6gNQ"
      },
      "source": [
        "# Load model\n",
        "Usamos softmax pois se espera \"uma resposta correta\"\n",
        "https://stats.stackexchange.com/questions/233658/softmax-vs-sigmoid-function-in-logistic-classifier"
      ]
    },
    {
      "cell_type": "code",
      "execution_count": 3,
      "metadata": {
        "id": "zTTUdqiv6GzT"
      },
      "outputs": [],
      "source": [
        "base_model = tf.keras.applications.EfficientNetB0(weights='imagenet',\n",
        "                                                  include_top=False,\n",
        "                                                  drop_connect_rate=dropout,\n",
        "                                                  pooling=\"max\")\n",
        "x=base_model.output\n",
        "preds=tf.keras.layers.Dense(num_classes, activation='softmax')(x)       \n",
        "model = tf.keras.models.Model(\n",
        "    inputs=base_model.input,\n",
        "    outputs=preds\n",
        ")"
      ]
    },
    {
      "cell_type": "code",
      "execution_count": 4,
      "metadata": {
        "id": "to0HNVtoD8ex"
      },
      "outputs": [],
      "source": [
        "for l in model.layers:\n",
        "  if l.name.split('_')[0] != 'dense':\n",
        "    l.trainable=False\n",
        "  else:\n",
        "    l.trainable=True"
      ]
    },
    {
      "cell_type": "code",
      "execution_count": 5,
      "metadata": {
        "colab": {
          "base_uri": "https://localhost:8080/"
        },
        "id": "1fbr-MOI7hK7",
        "outputId": "48cafe98-3e3b-43be-b61a-346ce92a2875"
      },
      "outputs": [
        {
          "output_type": "stream",
          "name": "stdout",
          "text": [
            "Found 6000 images belonging to 3 classes.\n",
            "Found 1500 images belonging to 3 classes.\n",
            "Porcentagem de data para teste: 20.00%\n",
            "Porcentagem de data para treino: 80.00%\n"
          ]
        }
      ],
      "source": [
        "train_data_gen = tf.keras.preprocessing.image.ImageDataGenerator(preprocessing_function=tf.keras.applications.efficientnet.preprocess_input) #included in our dependencies\n",
        "test_data_gen = tf.keras.preprocessing.image.ImageDataGenerator(preprocessing_function=tf.keras.applications.efficientnet.preprocess_input)\n",
        "train_generator = train_data_gen.flow_from_directory('Downloads/archive/afhq/train',\n",
        "                                                 target_size=(IMG_HEIGHT, IMG_WIDTH),\n",
        "                                                 batch_size=batch_size,\n",
        "                                                 class_mode=\"categorical\",\n",
        "                                                 shuffle=True)\n",
        "test_generator = train_data_gen.flow_from_directory('Downloads/archive/afhq/val',\n",
        "                                                 target_size=(IMG_HEIGHT, IMG_WIDTH),\n",
        "                                                 batch_size=batch_size,\n",
        "                                                 class_mode=\"categorical\",\n",
        "                                                 shuffle=True)\n",
        "total=train_generator.n+test_generator.n\n",
        "print(f\"Porcentagem de data para teste: {((test_generator.n/total)*100):.2f}%\")\n",
        "print(f\"Porcentagem de data para treino: {((train_generator.n/total)*100):.2f}%\")"
      ]
    },
    {
      "cell_type": "markdown",
      "metadata": {
        "id": "RmDtiTZCOCwp"
      },
      "source": [
        "# Training model"
      ]
    },
    {
      "cell_type": "code",
      "execution_count": 6,
      "metadata": {
        "colab": {
          "base_uri": "https://localhost:8080/"
        },
        "id": "8iUeXNdZOHCg",
        "outputId": "88047e5d-bd86-4c56-eff5-2dd7acf4fdc5"
      },
      "outputs": [
        {
          "output_type": "stream",
          "name": "stdout",
          "text": [
            "Epoch 1/3\n",
            "187/187 [==============================] - 27s 119ms/step - loss: 0.3671 - accuracy: 0.8592 - val_loss: 0.1957 - val_accuracy: 0.9395\n",
            "Epoch 2/3\n",
            "187/187 [==============================] - 21s 112ms/step - loss: 0.1931 - accuracy: 0.9300 - val_loss: 0.1592 - val_accuracy: 0.9463\n",
            "Epoch 3/3\n",
            "187/187 [==============================] - 21s 111ms/step - loss: 0.1709 - accuracy: 0.9383 - val_loss: 0.1435 - val_accuracy: 0.9504\n"
          ]
        }
      ],
      "source": [
        "opt = tf.keras.optimizers.Adam(learning_rate=lr)\n",
        "model.compile(optimizer=opt,loss='categorical_crossentropy',metrics=['accuracy'])\n",
        "step_size_train=train_generator.n//train_generator.batch_size\n",
        "step_size_test = test_generator.n//test_generator.batch_size\n",
        "\n",
        "history = model.fit(x=train_generator,\n",
        "          steps_per_epoch=step_size_train,\n",
        "          epochs=3,\n",
        "          validation_data=test_generator,\n",
        "          validation_steps=step_size_test,\n",
        "          use_multiprocessing=False,\n",
        "          )"
      ]
    },
    {
      "cell_type": "code",
      "source": [
        "results = model.evaluate_generator(test_generator, 15)\n",
        "print('Acc: %.3f, Loss: %.3f' % (results[1], results[0]))\n",
        "print(history.history.keys())"
      ],
      "metadata": {
        "id": "ASdjzT1W-9Vw",
        "colab": {
          "base_uri": "https://localhost:8080/"
        },
        "outputId": "dae42404-99f8-40c6-e46c-6e4b58b0583b"
      },
      "execution_count": 7,
      "outputs": [
        {
          "output_type": "stream",
          "name": "stderr",
          "text": [
            "C:\\Users\\leona\\AppData\\Local\\Temp\\ipykernel_6804\\2840589445.py:1: UserWarning: `Model.evaluate_generator` is deprecated and will be removed in a future version. Please use `Model.evaluate`, which supports generators.\n",
            "  results = model.evaluate_generator(test_generator, 15)\n"
          ]
        },
        {
          "output_type": "stream",
          "name": "stdout",
          "text": [
            "Acc: 0.950, Loss: 0.142\n",
            "dict_keys(['loss', 'accuracy', 'val_loss', 'val_accuracy'])\n"
          ]
        }
      ]
    },
    {
      "cell_type": "code",
      "execution_count": 8,
      "metadata": {
        "id": "BDQ29FeBm_Dx",
        "colab": {
          "base_uri": "https://localhost:8080/",
          "height": 580
        },
        "outputId": "acfa33b3-376d-410f-f63d-e66ce0588a05"
      },
      "outputs": [
        {
          "output_type": "display_data",
          "data": {
            "text/plain": [
              "<Figure size 432x288 with 1 Axes>"
            ],
            "image/png": "[encoded data removed]"
          },
          "metadata": {
            "needs_background": "light"
          }
        },
        {
          "output_type": "stream",
          "name": "stdout",
          "text": [
            "\n",
            "\n"
          ]
        },
        {
          "output_type": "display_data",
          "data": {
            "text/plain": [
              "<Figure size 432x288 with 1 Axes>"
            ],
            "image/png": "[encoded data removed]"
          },
          "metadata": {
            "needs_background": "light"
          }
        }
      ],
      "source": [
        "plt.title('Loss')\n",
        "plt.plot(history.history['loss'], label='train')\n",
        "plt.plot(history.history['val_loss'], label='test')\n",
        "plt.legend()\n",
        "plt.show()\n",
        "print()\n",
        "print()\n",
        "plt.title('Accuracy')\n",
        "plt.plot(history.history['accuracy'], label='train')\n",
        "plt.plot(history.history['val_accuracy'], label='test')\n",
        "plt.legend()\n",
        "plt.show()"
      ]
    },
    {
      "cell_type": "code",
      "execution_count": 11,
      "metadata": {
        "id": "tI5ecdDenF-7",
        "colab": {
          "base_uri": "https://localhost:8080/",
          "height": 252
        },
        "outputId": "80b3a9e1-fe1e-4bea-871a-dfcbdba00cd9"
      },
      "outputs": [
        {
          "output_type": "stream",
          "name": "stdout",
          "text": [
            "10/10 [==============================] - 1s 88ms/step\n"
          ]
        },
        {
          "output_type": "error",
          "ename": "TypeError",
          "evalue": "ignored",
          "traceback": [
            "\u001b[1;31m---------------------------------------------------------------------------\u001b[0m",
            "\u001b[1;31mTypeError\u001b[0m                                 Traceback (most recent call last)",
            "Input \u001b[1;32mIn [11]\u001b[0m, in \u001b[0;36m<cell line: 3>\u001b[1;34m()\u001b[0m\n\u001b[0;32m      1\u001b[0m predictions \u001b[38;5;241m=\u001b[39m model\u001b[38;5;241m.\u001b[39mpredict(test_generator, steps \u001b[38;5;241m=\u001b[39m \u001b[38;5;241m10\u001b[39m)\n\u001b[0;32m      2\u001b[0m y_pred \u001b[38;5;241m=\u001b[39m (predictions \u001b[38;5;241m>\u001b[39m \u001b[38;5;241m0.5\u001b[39m)\n\u001b[1;32m----> 3\u001b[0m y_test \u001b[38;5;241m=\u001b[39m \u001b[43mtest_generator\u001b[49m\u001b[43m \u001b[49m\u001b[38;5;241;43m>\u001b[39;49m\u001b[43m \u001b[49m\u001b[38;5;241;43m0.5\u001b[39;49m\n\u001b[0;32m      4\u001b[0m classification \u001b[38;5;241m=\u001b[39m classification_report(y_test\u001b[38;5;241m.\u001b[39margmax(axis\u001b[38;5;241m=\u001b[39m\u001b[38;5;241m1\u001b[39m), y_pred\u001b[38;5;241m.\u001b[39margmax(axis\u001b[38;5;241m=\u001b[39m\u001b[38;5;241m1\u001b[39m))\n\u001b[0;32m      5\u001b[0m \u001b[38;5;28mprint\u001b[39m(classification)\n",
            "\u001b[1;31mTypeError\u001b[0m: '>' not supported between instances of 'DirectoryIterator' and 'float'"
          ]
        }
      ],
      "source": [
        "predictions = model.predict(test_generator, steps = 10)\n",
        "y_pred = (predictions > 0.5)\n",
        "test_generator.ou\n",
        "classification = classification_report(y_test.argmax(axis=1), y_pred.argmax(axis=1))\n",
        "print(classification)\n",
        "matrix = confusion_matrix(y_test.argmax(axis=1), y_pred.argmax(axis=1))\n",
        "df_cm = pd.DataFrame(matrix, index = [i for i in range(10)],\n",
        "                  columns = [i for i in range(10)])\n",
        "plt.figure(figsize = (10,7))\n",
        "sn.heatmap(df_cm, annot=True, linewidths=2.5)"
      ]
    }
  ],
  "metadata": {
    "accelerator": "GPU",
    "colab": {
      "collapsed_sections": [],
      "name": "Projeto_Deep_Learning.ipynb",
      "provenance": [],
      "include_colab_link": true
    },
    "kernelspec": {
      "display_name": "Python 3",
      "name": "python3"
    },
    "language_info": {
      "name": "python"
    }
  },
  "nbformat": 4,
  "nbformat_minor": 0
}